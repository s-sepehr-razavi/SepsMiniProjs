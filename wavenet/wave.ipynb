{
 "cells": [
  {
   "cell_type": "code",
   "execution_count": 1,
   "metadata": {},
   "outputs": [],
   "source": [
    "import torch\n",
    "import torch.nn as nn\n",
    "import torch.optim as optim\n",
    "import torch.nn.functional as F\n",
    "from torch.utils.data import Dataset\n",
    "from torch.utils.data import DataLoader"
   ]
  },
  {
   "cell_type": "code",
   "execution_count": 4,
   "metadata": {},
   "outputs": [],
   "source": [
    "# Define a simple neural network\n",
    "class Wavenet(nn.Module):\n",
    "    def __init__(self, n, m, f, g):\n",
    "        super(Wavenet, self).__init__()\n",
    "        self.n = n\n",
    "        self.m = m\n",
    "        self.f = f\n",
    "        self.g = g\n",
    "\n",
    "        self.L1L1 = nn.Linear(n * f, m)\n",
    "        self.L1L2 = nn.Linear(n * f, m)\n",
    "        self.L1L3 = nn.Linear(n * f, m)\n",
    "        self.L1L4 = nn.Linear(n * f, m)\n",
    "        \n",
    "        self.L2L1 = nn.Linear(m * f, m)\n",
    "        self.L2L2 = nn.Linear(m * f, m)\n",
    "        self.L2L3 = nn.Linear(m * f, m)\n",
    "\n",
    "        self.L3L1 = nn.Linear(m * f, m)\n",
    "        self.L3L2 = nn.Linear(m * f, m)\n",
    "\n",
    "        self.L4L1 = nn.Linear(m * f, n)\n",
    "\n",
    "    def forward(self, x): # 1 * g * n\n",
    "        n = self.n\n",
    "        m = self.m\n",
    "        f = self.f\n",
    "        g = self.g\n",
    "        x = x.reshape(-1, g / f, n * f)\n",
    "        a1 = \n",
    "        return x\n"
   ]
  },
  {
   "cell_type": "code",
   "execution_count": null,
   "metadata": {},
   "outputs": [],
   "source": []
  },
  {
   "cell_type": "code",
   "execution_count": null,
   "metadata": {},
   "outputs": [],
   "source": []
  }
 ],
 "metadata": {
  "kernelspec": {
   "display_name": "Python 3",
   "language": "python",
   "name": "python3"
  },
  "language_info": {
   "codemirror_mode": {
    "name": "ipython",
    "version": 3
   },
   "file_extension": ".py",
   "mimetype": "text/x-python",
   "name": "python",
   "nbconvert_exporter": "python",
   "pygments_lexer": "ipython3",
   "version": "3.10.3"
  }
 },
 "nbformat": 4,
 "nbformat_minor": 2
}
